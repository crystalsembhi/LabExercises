{
 "cells": [
  {
   "cell_type": "markdown",
   "id": "c42138c9",
   "metadata": {},
   "source": [
    "### Exercise 1"
   ]
  },
  {
   "cell_type": "markdown",
   "id": "2d11ae35",
   "metadata": {},
   "source": [
    "See the list below. Please write a program that will tell you what the longest word is in the list. Package your program inside of a function."
   ]
  },
  {
   "cell_type": "code",
   "execution_count": 140,
   "id": "db8581aa",
   "metadata": {},
   "outputs": [
    {
     "name": "stdout",
     "output_type": "stream",
     "text": [
      "chestnut\n",
      "gargoyle\n"
     ]
    }
   ],
   "source": [
    "list = [\"apple\", \"chestnut\", \"gargoyle\", \"pandas\", \"sheep\", \"raptor\"]\n",
    "\n",
    "\n",
    "def longest_word():\n",
    "    max1 = len(list[0])\n",
    "    word1 = list[0]\n",
    "    word = \"\"\n",
    "    for x in list:\n",
    "        if len(x) > max1:\n",
    "            max1 = len(x) \n",
    "            word = x\n",
    "            print(word)\n",
    "        elif len(x) == len(word):\n",
    "            print(x)   \n",
    "            \n",
    "longest_word()"
   ]
  },
  {
   "cell_type": "markdown",
   "id": "13ad6cbf",
   "metadata": {},
   "source": [
    "### Exercise 2"
   ]
  },
  {
   "cell_type": "markdown",
   "id": "dcd7e497",
   "metadata": {},
   "source": [
    "Now that you have built the program above, in a new cell, edit your program: import a .txt file of a list of words and have your program randomly choose 7 words from the file to add to a list, and then have the program determine the longest word as you did above."
   ]
  },
  {
   "cell_type": "code",
   "execution_count": 154,
   "id": "605c1e8e",
   "metadata": {},
   "outputs": [
    {
     "name": "stdout",
     "output_type": "stream",
     "text": [
      "['elephant', 'compass', 'bicycle', 'tea', 'train', 'navigation', 'greenery']\n",
      "navigation\n"
     ]
    }
   ],
   "source": [
    "import random\n",
    "\n",
    "    \n",
    "def longest_word():\n",
    "    list1 = []\n",
    "    runs = 7\n",
    "    a = open('wordlist.txt', 'r')\n",
    "    words = a.read().split()\n",
    "    while runs > 0:\n",
    "        word = random.choice(words)\n",
    "        if word not in list1:\n",
    "            list1.append(word)\n",
    "            runs -= 1\n",
    "    print(list1)\n",
    "    max1 = len(list1[0])\n",
    "    word1 = list1[0]\n",
    "    word = \" \"\n",
    "    for x in list1:\n",
    "        if len(x) > max1:\n",
    "            max1 = len(x) \n",
    "            word = x\n",
    "            print(word)\n",
    "        elif len(x) == len(word):\n",
    "            print(x)\n",
    "                    \n",
    "\n",
    "longest_word()"
   ]
  },
  {
   "cell_type": "markdown",
   "id": "048a3114",
   "metadata": {},
   "source": [
    "### Exercise 3 "
   ]
  },
  {
   "cell_type": "markdown",
   "id": "8b8764b2",
   "metadata": {},
   "source": [
    "Pretend that you're going to be leading a review session on dictionaries. Build a program that uses dictionaries and incorporates at least 4 built-in methods."
   ]
  },
  {
   "cell_type": "code",
   "execution_count": 3,
   "id": "7e5503b1",
   "metadata": {},
   "outputs": [
    {
     "name": "stdout",
     "output_type": "stream",
     "text": [
      "Your balance is 57\n",
      "dict_keys(['milk', 'eggs', 'cereal', 'bananas', 'detergent', 'mop', 'tissues', 'rice', 'grapes', 'tea'])\n",
      "Which item from the list are you buying now? milk\n",
      "Your money left is $52\n",
      "dict_keys(['eggs', 'cereal', 'bananas', 'detergent', 'mop', 'tissues', 'rice', 'grapes', 'tea'])\n",
      "Which item from the list are you buying now? cereal\n",
      "Your money left is $48\n",
      "dict_keys(['eggs', 'bananas', 'detergent', 'mop', 'tissues', 'rice', 'grapes', 'tea'])\n",
      "Which item from the list are you buying now? detergent\n",
      "Your money left is $36\n",
      "dict_keys(['eggs', 'bananas', 'mop', 'tissues', 'rice', 'grapes', 'tea'])\n",
      "Which item from the list are you buying now? mop\n",
      "Your money left is $27\n",
      "dict_keys(['eggs', 'bananas', 'tissues', 'rice', 'grapes', 'tea'])\n",
      "Which item from the list are you buying now? rice\n",
      "Your money left is $14\n",
      "dict_keys(['eggs', 'bananas', 'tissues', 'grapes', 'tea'])\n",
      "Which item from the list are you buying now? eggs\n",
      "Your money left is $6\n",
      "dict_keys(['bananas', 'tissues', 'grapes', 'tea'])\n",
      "Which item from the list are you buying now? tea\n",
      "Looks like you can't afford to buy anything else :(\n"
     ]
    }
   ],
   "source": [
    "import random\n",
    "\n",
    "\n",
    "\n",
    "shopping_list = {\"milk\": 5, \"eggs\": 8, \"cereal\": 4, \"bananas\": 3, \"detergent\": 12, \n",
    "                 \"mop\": 9, \"tissues\": 2, \"rice\": 13, \"grapes\": 6, \"tea\": 9}\n",
    "\n",
    "def grocery_shopping():\n",
    "    money = 57\n",
    "    print(f\"Your balance is ${money}\")\n",
    "    x = shopping_list.keys()\n",
    "    print(x)\n",
    "    while money > 0:\n",
    "        item = input(f\"Which item from the list are you buying now? \").lower()\n",
    "        amount = shopping_list.get(item)\n",
    "        if money < amount:\n",
    "            print(f\"Looks like you can't afford to buy anything else :(\")\n",
    "            break\n",
    "        money -= amount        \n",
    "        print(f\"Your money left is ${money}\")\n",
    "        shopping_list.pop(item)\n",
    "        print(x)\n",
    "    if money <= 0:\n",
    "        print(f\"Looks like you can't afford to buy anything else :(\")\n",
    "        \n",
    "              \n",
    "    \n",
    "grocery_shopping()"
   ]
  },
  {
   "cell_type": "markdown",
   "id": "c977094b",
   "metadata": {},
   "source": [
    "### Exercise 4"
   ]
  },
  {
   "cell_type": "markdown",
   "id": "651a0b88",
   "metadata": {},
   "source": [
    "Using OOP, I want you to build one of the following things. As part of the excerise, please write out your brainstorming process in a comment or markdown cell:\n",
    "\n",
    "* A system to manage a student's school record (would need a way to gather/store personal information, record grades, record GPA, etc.)\n",
    "\n",
    "* A class that allows you to create your own flashcards & then allows you to review them (this would work best with language cards - like one word is in Spanish, one in English)\n",
    "\n",
    "* A class (or series of classes) to correspond with a gameplay (for example, a fighter class, a bard class, a wizard class)"
   ]
  },
  {
   "cell_type": "markdown",
   "id": "27c701d4",
   "metadata": {},
   "source": [
    "For this exercise, I chose the last option and started off with a Player class. For this class, I created some basic variables and a method for health. For a child class, I added on some more methods specific to it, such as moves that they can carry out and actions that they can perform. For each move, I figured I should add in damage that could be carried out on the other person. "
   ]
  },
  {
   "cell_type": "code",
   "execution_count": 3,
   "id": "e7692ad6",
   "metadata": {},
   "outputs": [
    {
     "name": "stdout",
     "output_type": "stream",
     "text": [
      "100\n",
      "**shove**\n",
      "Damage inflicted: 5\n",
      "**run**\n"
     ]
    }
   ],
   "source": [
    "import random\n",
    "\n",
    "class Player:\n",
    "    def __init__(self, name, HP):\n",
    "        self.name = name\n",
    "        self.HP = HP\n",
    "        self.damage = 0 \n",
    "\n",
    "    def health(self):\n",
    "        return self.HP - self.damage \n",
    "        \n",
    "class Fighter(Player):\n",
    "    def __init__(self, name, HP, attack = 0):\n",
    "        super().__init__(name,HP)\n",
    "        self.attack = attack\n",
    "        \n",
    "    def moves(self):\n",
    "        moves = [\"punch\", \"kick\", \"stab\", \"shove\"]\n",
    "        a = random.choice(moves)\n",
    "        print(f\"**{a}**\")\n",
    "        if a == \"punch\":\n",
    "            self.attack += 15\n",
    "            print(f\"Damage inflicted: {self.attack}\")\n",
    "        elif a == \"kick\":\n",
    "            self.attack += 10\n",
    "            print(f\"Damage inflicted: {self.attack}\")\n",
    "        elif a == \"stab\":\n",
    "            self.attack += 25\n",
    "            print(f\"Damage inflicted: {self.attack}\")\n",
    "        elif a == \"shove\":\n",
    "            self.attack += 5\n",
    "            print(f\"Damage inflicted: {self.attack}\")\n",
    "        \n",
    "    def actions(self):\n",
    "        action = [\"walk\", \"run\", \"jump\", \"hide\"]\n",
    "        act = random.choice(action)\n",
    "        print(f\"**{act}**\")\n",
    "        \n",
    "p1 = Player(\"Crystal\", 100)\n",
    "print(p1.health())\n",
    "\n",
    "p2 = Fighter(\"Grey\", 55)\n",
    "p2.moves()\n",
    "p2.actions()"
   ]
  },
  {
   "cell_type": "markdown",
   "id": "61206b59",
   "metadata": {},
   "source": [
    "### Exercise 5"
   ]
  },
  {
   "cell_type": "markdown",
   "id": "466a8337",
   "metadata": {},
   "source": [
    "Finalize your Hangman program and submit it. Include any necessary comments and explain what you had \"refreshed\" by building it in class. If appropriate, use functions or OOP to package the pieces of your code."
   ]
  },
  {
   "cell_type": "markdown",
   "id": "4325f6be",
   "metadata": {},
   "source": [
    "By building this game in class, the biggest thing is that I was able to refresh my knowledge of while loops. I find those to be the trickiest and I had trouble in the beginning of the game as I couldn't get it to work, but I was able to figure it out. There are a lot of conditionals in this game so I got more pratice with those and also by working with peers I learned how to create the display and allow for the game to recognize when a letter appears more than once in the word."
   ]
  },
  {
   "cell_type": "code",
   "execution_count": 1,
   "id": "7e987618",
   "metadata": {},
   "outputs": [
    {
     "name": "stdout",
     "output_type": "stream",
     "text": [
      "['__', '__', '__', '__', '__']\n",
      "The word to guess has 5 letters.\n",
      "Enter a letter: c\n",
      "The letter 'c' is not in the word.\n",
      "Tries left: 5\n",
      "Enter a letter: t\n",
      "The letter 't' is not in the word.\n",
      "Tries left: 4\n",
      "Enter a letter: l\n",
      "The letter 'l' is in the word.\n",
      "Letters guessed: ['l']\n",
      "['__', '__', '__', 'l', '__']\n",
      "Enter a letter: a\n",
      "The letter 'a' is in the word.\n",
      "Letters guessed: ['l', 'a']\n",
      "['a', '__', '__', 'l', '__']\n",
      "Enter a letter: p\n",
      "The letter 'p' is in the word.\n",
      "Letters guessed: ['l', 'a', 'p']\n",
      "[1, 2]\n",
      "Number of tries left: 3\n",
      "['a', 'p', 'p', 'l', '__']\n",
      "Enter a letter: e\n",
      "The letter 'e' is in the word.\n",
      "Letters guessed: ['l', 'a', 'p', 'e']\n",
      "['a', 'p', 'p', 'l', 'e']\n",
      "You won!\n"
     ]
    }
   ],
   "source": [
    "import random\n",
    "\n",
    "words = (\"cookie\", \"scissors\", \"table\", \"apple\", \"scenery\", \"plant\") #choosing a random word\n",
    "word_to_guess = random.choice(words)\n",
    "letters_in_word = len(word_to_guess)\n",
    "\n",
    "tries = 6\n",
    "counting = 0\n",
    "display = []\n",
    "guessed = []\n",
    "index = []\n",
    "\n",
    "\n",
    "for i in word_to_guess: #creating the game display with underscores as strings\n",
    "    display.append('__')\n",
    "print(display)\n",
    "\n",
    "\n",
    "\n",
    "print(f\"The word to guess has {letters_in_word} letters.\") #Statement to inform players of word\n",
    "\n",
    "\n",
    "\n",
    "while tries > 0: #while loop that keeps the game going if tries is over 0\n",
    "    letter_guess = input(\"Enter a letter: \")\n",
    "    if letter_guess in word_to_guess:\n",
    "        print(f\"The letter '{letter_guess}' is in the word.\")\n",
    "        if letter_guess not in guessed: #adds to guessed letter list \n",
    "            guessed.append(letter_guess)      \n",
    "        print(f\"Letters guessed: {guessed}\")\n",
    "    elif letter_guess not in word_to_guess: #minus 1 if the guess is wrong\n",
    "        print(f\"The letter '{letter_guess}' is not in the word.\")\n",
    "        tries -=1\n",
    "        print(f\"Tries left: {tries}\")\n",
    "    if word_to_guess.count(letter_guess) == 1: #if the letter matches one in the word, the display is filled\n",
    "        place = word_to_guess.index(letter_guess)\n",
    "        display[place] = letter_guess\n",
    "        print(display)\n",
    "            \n",
    "        \n",
    "    elif word_to_guess.count(letter_guess) >= 2: #letter appears more than once                   \n",
    "        for i in word_to_guess:\n",
    "            if i == letter_guess:\n",
    "                index.append(word_to_guess.index(i, counting))\n",
    "                counting = index[-1] + 1\n",
    "        print(index)\n",
    "        for x in index:\n",
    "            display[x] = letter_guess\n",
    "        if tries > 0: \n",
    "            print(\"Number of tries left: \" + str(tries - 1))\n",
    "        print(display)\n",
    "        \n",
    "    \n",
    "    if \"__\" not in display: #once the display is filled in, the game has been won\n",
    "        print(\"You won!\")\n",
    "        break\n",
    "\n",
    "    if tries <= 0: #if tries run out\n",
    "        print(\"Sorry, you lost!\")\n",
    "        break"
   ]
  }
 ],
 "metadata": {
  "kernelspec": {
   "display_name": "Python 3 (ipykernel)",
   "language": "python",
   "name": "python3"
  },
  "language_info": {
   "codemirror_mode": {
    "name": "ipython",
    "version": 3
   },
   "file_extension": ".py",
   "mimetype": "text/x-python",
   "name": "python",
   "nbconvert_exporter": "python",
   "pygments_lexer": "ipython3",
   "version": "3.9.13"
  }
 },
 "nbformat": 4,
 "nbformat_minor": 5
}
